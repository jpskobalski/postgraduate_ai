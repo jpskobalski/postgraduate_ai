{
 "cells": [
  {
   "cell_type": "markdown",
   "id": "9dc3793379ee6eb9",
   "metadata": {
    "collapsed": false,
    "jupyter": {
     "outputs_hidden": false
    }
   },
   "source": [
    "# Ejercicio Módulo 2\n",
    "**Inteligencia Artificial - CEIA - FIUBA**\n",
    "\n",
    "**Juan Pablo Skobalski**\n",
    "\n",
    "En este ejercicio deben implementar un algoritmo de búsqueda que no sea **Búsqueda Primero en Anchura (BFS)** para resolver el problema de la Torre de Hanoi. La nota máxima dependerá del algoritmo implementado:\n",
    "\n",
    "- **Búsqueda Primero en Profundidad**: nota máxima 6.\n",
    "- **Búsqueda de Costo Uniforme**: nota máxima 6.\n",
    "- **Búsqueda de Profundidad Limitada con Profundidad Iterativa**: nota máxima 7.\n",
    "- **Búsqueda Voraz usando la heurística dada en el aula virtual**: nota máxima 8.\n",
    "- **Búsqueda Voraz usando una heurística desarrollada por vos**: nota máxima 9.\n",
    "- **Búsqueda A* usando la heurística dada en el aula virtual**: nota máxima 9.\n",
    "- **Búsqueda A* usando una heurística desarrollada por vos**: nota máxima 10.\n",
    "\n",
    "La función debe devolver la salida correspondiente a la solución encontrada o `None si no se encontró una solución.\n",
    "\n",
    "Además, debe calcular métricas de rendimiento que, como mínimo, incluyan:\n",
    "\n",
    "- `solution_found`: `True` si se encontró la solución, `False` en caso contrario.\n",
    "- `nodes_explored`: cantidad de nodos explorados (entero).\n",
    "- `states_visited`: cantidad de estados distintos visitados (entero).\n",
    "- `nodes_in_frontier`: cantidad de nodos que quedaron en la frontera al finalizar la ejecución (entero).\n",
    "- `max_depth`: máxima profundidad explorada (entero).\n",
    "- `cost_total`: costo total para encontrar la solución (float)."
   ]
  },
  {
   "cell_type": "code",
   "id": "d070f4f5-39ee-4081-85ab-ee2257ecd769",
   "metadata": {
    "ExecuteTime": {
     "end_time": "2025-08-31T18:43:28.654819Z",
     "start_time": "2025-08-31T18:43:28.651156Z"
    }
   },
   "source": [
    "from aima_libs.hanoi_states import ProblemHanoi, StatesHanoi\n",
    "from aima_libs.tree_hanoi import NodeHanoi"
   ],
   "outputs": [],
   "execution_count": 22
  },
  {
   "cell_type": "code",
   "id": "d58cc9fe-ab05-4ab5-8627-6687c42c558e",
   "metadata": {
    "ExecuteTime": {
     "end_time": "2025-08-31T18:43:50.173927Z",
     "start_time": "2025-08-31T18:43:50.153895Z"
    }
   },
   "source": [
    "def search_algorithm(number_disks=5) -> (NodeHanoi, dict):\n",
    "\n",
    "    list_disks = [i for i in range(5, 0, -1)]\n",
    "    initial_state = StatesHanoi(list_disks, [], [], max_disks=number_disks)\n",
    "    goal_state = StatesHanoi([], [], list_disks, max_disks=number_disks)\n",
    "    problem = ProblemHanoi(initial=initial_state, goal=goal_state)\n",
    "\n",
    "    ##### EDITAR ESTA ZONA\n",
    "\n",
    "    # Inicializamos las salidas, pero reemplazar con lo que se quiera usar.\n",
    "    metrics = {\n",
    "        \"solution_found\": True,\n",
    "        \"nodes_explored\": None,\n",
    "        \"states_visited\": None,\n",
    "        \"nodes_in_frontier\": None,\n",
    "        \"max_depth\": None,\n",
    "        \"cost_total\": None,\n",
    "    }\n",
    "    solution = NodeHanoi(initial_state)\n",
    "\n",
    "    # TODO: Completar con el algoritmo de búsqueda que desees implementar\n",
    "    #####\n",
    "    \"\"\"\n",
    "    En este ejercicio implementé el algoritmo de búsqueda A* para resolver el problema de la Torre de Hanoi, utilizando una heurística propia para garantizar que fuera admisible y consistente.\n",
    "    El algoritmo mantiene una frontera implementada como una cola de prioridad (heap), ordenada por el valor f(n) = g(n) + h(n), donde g(n) es el costo acumulado y h(n) la estimación heurística (tal como observe en el video de las clase 2.2). Además, guardo un conjunto de estados ya explorados para no reexpandirlos. Cada vez que expando un nodo, genero sus sucesores aplicando las acciones validas.\n",
    "    \"\"\"\n",
    "    \n",
    "    \n",
    "    def heuristica_skobalski(estado: StatesHanoi, indice_torre_objetivo: int = 2) -> int:\n",
    "        pilas = estado.rods\n",
    "        presentes = [d for pila in pilas for d in pila]\n",
    "        if not presentes:\n",
    "            return 0\n",
    "        \n",
    "        pos = {}\n",
    "        for i, pila in enumerate(pilas):\n",
    "            for d in pila:\n",
    "                pos[d] = i\n",
    "        mayor = max(presentes)\n",
    "        # Desde el más grande hacia el más chico, busco el primero que no esté en la torre objetivo\n",
    "        for d in range(mayor, 0, -1):\n",
    "            if pos.get(d, indice_torre_objetivo) != indice_torre_objetivo:\n",
    "                return (2 ** d) - 1\n",
    "        return 0\n",
    "\n",
    "    def codificar(estado: StatesHanoi):\n",
    "        return tuple(tuple(rod) for rod in estado.rods)\n",
    "\n",
    "    def actualizar_atributos(nodo: NodeHanoi, padre: NodeHanoi, accion, costo: int):\n",
    "        nodo.parent = padre\n",
    "        nodo.action = accion\n",
    "        nodo.path_cost = costo\n",
    "        nodo.depth = getattr(padre, \"depth\", 0) + 1\n",
    "\n",
    "    # A* con f = g + h; g = pasos (costo u x movimiento), h = heurística skobalski\n",
    "    import heapq\n",
    "\n",
    "    nodo_inicial = NodeHanoi(initial_state)\n",
    "    nodo_inicial.path_cost = 0\n",
    "    nodo_inicial.depth = 0\n",
    "\n",
    "    g = {codificar(initial_state): 0}\n",
    "    h0 = heuristica_skobalski(initial_state, 2)\n",
    "    frontera = []\n",
    "    contador = 0  # para desempatar estable en el heap\n",
    "    heapq.heappush(frontera, (h0, 0, contador, nodo_inicial))\n",
    "    contador += 1\n",
    "\n",
    "    cerrados = set()\n",
    "    visitados = {codificar(initial_state)}\n",
    "    nodos_explorados = 0\n",
    "    max_profundidad = 0\n",
    "\n",
    "    solucion_nodo = None\n",
    "    costo_final = float(\"inf\")\n",
    "\n",
    "    while frontera:\n",
    "        f, g_actual, _, nodo = heapq.heappop(frontera)\n",
    "        estado = nodo.state\n",
    "        clave = codificar(estado)\n",
    "        if clave in cerrados:\n",
    "            continue\n",
    "\n",
    "        cerrados.add(clave)\n",
    "        nodos_explorados += 1\n",
    "        max_profundidad = max(max_profundidad, getattr(nodo, \"depth\", g.get(clave, 0)))\n",
    "\n",
    "        # Goal: uso goal_test si está definido; si no, comparo con el goal_state (tiene __eq__)\n",
    "        es_goal = problem.goal_test(estado) if hasattr(problem, \"goal_test\") else (estado == goal_state)\n",
    "        if es_goal:\n",
    "            solucion_nodo = nodo\n",
    "            costo_final = g.get(clave, getattr(nodo, \"path_cost\", 0))\n",
    "            break\n",
    "\n",
    "        # Expansión: actions(state) -> lista de ActionHanoi; result(state, action) -> StatesHanoi\n",
    "        for accion in problem.actions(estado):\n",
    "            nuevo_estado = problem.result(estado, accion)\n",
    "            clave_hijo = codificar(nuevo_estado)\n",
    "            nuevo_g = g.get(clave, getattr(nodo, \"path_cost\", 0)) + 1  # costo unitario por movimiento\n",
    "            if clave_hijo not in g or nuevo_g < g[clave_hijo]:\n",
    "                g[clave_hijo] = nuevo_g\n",
    "                visitados.add(clave_hijo)\n",
    "                hijo = NodeHanoi(nuevo_estado)\n",
    "                actualizar_atributos(hijo, nodo, accion, nuevo_g)\n",
    "                h = heuristica_skobalski(nuevo_estado, 2)\n",
    "                f_nuevo = nuevo_g + h\n",
    "                heapq.heappush(frontera, (f_nuevo, nuevo_g, contador, hijo))\n",
    "                contador += 1\n",
    "\n",
    "    # Métricas y retorno\n",
    "    if solucion_nodo is not None:\n",
    "        metrics = {\n",
    "            \"solution_found\": True,\n",
    "            \"nodes_explored\": nodos_explorados,\n",
    "            \"states_visited\": len(visitados),\n",
    "            \"nodes_in_frontier\": len(frontera),\n",
    "            \"max_depth\": int(max_profundidad),\n",
    "            \"cost_total\": float(costo_final),\n",
    "        }\n",
    "        solution = solucion_nodo\n",
    "    else:\n",
    "        metrics = {\n",
    "            \"solution_found\": False,\n",
    "            \"nodes_explored\": nodos_explorados,\n",
    "            \"states_visited\": len(visitados),\n",
    "            \"nodes_in_frontier\": len(frontera),\n",
    "            \"max_depth\": int(max_profundidad),\n",
    "            \"cost_total\": float(\"inf\"),\n",
    "        }\n",
    "        solution = None\n",
    "\n",
    "    #####\n",
    "\n",
    "    return solution, metrics"
   ],
   "outputs": [],
   "execution_count": 24
  },
  {
   "cell_type": "markdown",
   "id": "5cd0daea-d105-410d-b575-98baf3118abb",
   "metadata": {},
   "source": "Se prueba la función:"
  },
  {
   "cell_type": "code",
   "id": "768cc0a3-c2d8-46a0-8008-8648e2858d0e",
   "metadata": {
    "ExecuteTime": {
     "end_time": "2025-08-31T18:43:53.099868Z",
     "start_time": "2025-08-31T18:43:53.086958Z"
    }
   },
   "source": "solution, metrics = search_algorithm(number_disks=5)",
   "outputs": [],
   "execution_count": 25
  },
  {
   "cell_type": "markdown",
   "id": "934d0e1b-1791-405f-a53d-0b834ccc5409",
   "metadata": {},
   "source": "Veamos las métricas:"
  },
  {
   "cell_type": "code",
   "id": "43657735-9e67-4931-a4fc-11db96b5735a",
   "metadata": {
    "ExecuteTime": {
     "end_time": "2025-08-31T18:43:57.695216Z",
     "start_time": "2025-08-31T18:43:57.690811Z"
    }
   },
   "source": [
    "for key, value in metrics.items():\n",
    "    print(f\"{key}: {value}\")"
   ],
   "outputs": [
    {
     "name": "stdout",
     "output_type": "stream",
     "text": [
      "solution_found: True\n",
      "nodes_explored: 116\n",
      "states_visited: 125\n",
      "nodes_in_frontier: 9\n",
      "max_depth: 31\n",
      "cost_total: 31.0\n"
     ]
    }
   ],
   "execution_count": 26
  },
  {
   "cell_type": "markdown",
   "id": "32deebf6-2ab1-4573-9aaf-9add84c2939f",
   "metadata": {},
   "source": "Veamos el camino de estados desde el principio a la solución:"
  },
  {
   "cell_type": "code",
   "id": "7c398df5-9dc4-4fae-9181-308f859f2835",
   "metadata": {
    "ExecuteTime": {
     "end_time": "2025-08-31T18:44:03.569741Z",
     "start_time": "2025-08-31T18:44:03.565955Z"
    }
   },
   "source": [
    "for nodos in solution.path():\n",
    "    print(nodos)"
   ],
   "outputs": [
    {
     "name": "stdout",
     "output_type": "stream",
     "text": [
      "<Node HanoiState: 5 4 3 2 1 |  | >\n",
      "<Node HanoiState: 5 4 3 2 |  | 1>\n",
      "<Node HanoiState: 5 4 3 | 2 | 1>\n",
      "<Node HanoiState: 5 4 3 | 2 1 | >\n",
      "<Node HanoiState: 5 4 | 2 1 | 3>\n",
      "<Node HanoiState: 5 4 1 | 2 | 3>\n",
      "<Node HanoiState: 5 4 1 |  | 3 2>\n",
      "<Node HanoiState: 5 4 |  | 3 2 1>\n",
      "<Node HanoiState: 5 | 4 | 3 2 1>\n",
      "<Node HanoiState: 5 | 4 1 | 3 2>\n",
      "<Node HanoiState: 5 2 | 4 1 | 3>\n",
      "<Node HanoiState: 5 2 1 | 4 | 3>\n",
      "<Node HanoiState: 5 2 1 | 4 3 | >\n",
      "<Node HanoiState: 5 2 | 4 3 | 1>\n",
      "<Node HanoiState: 5 | 4 3 2 | 1>\n",
      "<Node HanoiState: 5 | 4 3 2 1 | >\n",
      "<Node HanoiState:  | 4 3 2 1 | 5>\n",
      "<Node HanoiState: 1 | 4 3 2 | 5>\n",
      "<Node HanoiState: 1 | 4 3 | 5 2>\n",
      "<Node HanoiState:  | 4 3 | 5 2 1>\n",
      "<Node HanoiState: 3 | 4 | 5 2 1>\n",
      "<Node HanoiState: 3 | 4 1 | 5 2>\n",
      "<Node HanoiState: 3 2 | 4 1 | 5>\n",
      "<Node HanoiState: 3 2 1 | 4 | 5>\n",
      "<Node HanoiState: 3 2 1 |  | 5 4>\n",
      "<Node HanoiState: 3 2 |  | 5 4 1>\n",
      "<Node HanoiState: 3 | 2 | 5 4 1>\n",
      "<Node HanoiState: 3 | 2 1 | 5 4>\n",
      "<Node HanoiState:  | 2 1 | 5 4 3>\n",
      "<Node HanoiState: 1 | 2 | 5 4 3>\n",
      "<Node HanoiState: 1 |  | 5 4 3 2>\n",
      "<Node HanoiState:  |  | 5 4 3 2 1>\n"
     ]
    }
   ],
   "execution_count": 27
  },
  {
   "cell_type": "markdown",
   "id": "11d79725-95ec-4806-be05-ac0522e49afe",
   "metadata": {},
   "source": [
    "Y las acciones que el agente debería aplicar para llegar al objetivo:"
   ]
  },
  {
   "cell_type": "code",
   "id": "9c7f1421-be80-45b8-8336-7afe2c2b1ad7",
   "metadata": {
    "ExecuteTime": {
     "end_time": "2025-08-31T18:44:11.772454Z",
     "start_time": "2025-08-31T18:44:11.767146Z"
    }
   },
   "source": [
    "for act in solution.solution():\n",
    "    print(act)"
   ],
   "outputs": [
    {
     "name": "stdout",
     "output_type": "stream",
     "text": [
      "Move disk 1 from 1 to 3\n",
      "Move disk 2 from 1 to 2\n",
      "Move disk 1 from 3 to 2\n",
      "Move disk 3 from 1 to 3\n",
      "Move disk 1 from 2 to 1\n",
      "Move disk 2 from 2 to 3\n",
      "Move disk 1 from 1 to 3\n",
      "Move disk 4 from 1 to 2\n",
      "Move disk 1 from 3 to 2\n",
      "Move disk 2 from 3 to 1\n",
      "Move disk 1 from 2 to 1\n",
      "Move disk 3 from 3 to 2\n",
      "Move disk 1 from 1 to 3\n",
      "Move disk 2 from 1 to 2\n",
      "Move disk 1 from 3 to 2\n",
      "Move disk 5 from 1 to 3\n",
      "Move disk 1 from 2 to 1\n",
      "Move disk 2 from 2 to 3\n",
      "Move disk 1 from 1 to 3\n",
      "Move disk 3 from 2 to 1\n",
      "Move disk 1 from 3 to 2\n",
      "Move disk 2 from 3 to 1\n",
      "Move disk 1 from 2 to 1\n",
      "Move disk 4 from 2 to 3\n",
      "Move disk 1 from 1 to 3\n",
      "Move disk 2 from 1 to 2\n",
      "Move disk 1 from 3 to 2\n",
      "Move disk 3 from 1 to 3\n",
      "Move disk 1 from 2 to 1\n",
      "Move disk 2 from 2 to 3\n",
      "Move disk 1 from 1 to 3\n"
     ]
    }
   ],
   "execution_count": 28
  }
 ],
 "metadata": {
  "kernelspec": {
   "display_name": "ia_env",
   "language": "python",
   "name": "python3"
  },
  "language_info": {
   "codemirror_mode": {
    "name": "ipython",
    "version": 3
   },
   "file_extension": ".py",
   "mimetype": "text/x-python",
   "name": "python",
   "nbconvert_exporter": "python",
   "pygments_lexer": "ipython3",
   "version": "3.11.11"
  }
 },
 "nbformat": 4,
 "nbformat_minor": 5
}
