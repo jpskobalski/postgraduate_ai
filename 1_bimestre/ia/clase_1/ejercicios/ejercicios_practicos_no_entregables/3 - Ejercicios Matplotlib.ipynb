{
 "cells": [
  {
   "cell_type": "markdown",
   "metadata": {
    "id": "yMG2K0k1XZ9p"
   },
   "source": [
    "\n",
    "# Ejercicios de Matplotlib\n",
    "Inteligencia Artificial - Facundo A. Lucianna - CEIA - FIUBA\n",
    "\n",
    "A continuación veamos ejercicios de Matplotlib que deben resolver.\n",
    "\n",
    "Ejercicio 1: Importa a matplotlib.pyplot como plt"
   ]
  },
  {
   "cell_type": "code",
   "metadata": {
    "id": "0uhbCRVYXZZ9",
    "ExecuteTime": {
     "end_time": "2025-08-26T17:37:17.823253Z",
     "start_time": "2025-08-26T17:37:17.817358Z"
    }
   },
   "source": [
    "import matplotlib.pyplot as plt\n",
    "import numpy as np"
   ],
   "outputs": [],
   "execution_count": 2
  },
  {
   "cell_type": "markdown",
   "metadata": {
    "id": "-ZXnAi9eXhkd"
   },
   "source": [
    "Ejercicio 2: Desarrolle una gráfica de linea usando el módulo pyplot de Matplotlib para producir la función:\n",
    "\n",
    "$$ f(x) = x^2 |sen(x)| - 4 $$\n",
    "\n",
    "Sobre el dominio $ 0 \\leq x \\leq 4 $. Asegurese de que los ejes y la curva esté correctamente etiquetadas. Agregue un titulo. "
   ]
  },
  {
   "cell_type": "code",
   "metadata": {
    "id": "shbtKtoeXOj6",
    "ExecuteTime": {
     "end_time": "2025-08-26T19:08:46.140856Z",
     "start_time": "2025-08-26T19:08:45.909164Z"
    }
   },
   "source": [
    "# Dominio de 0 a 4 con muchos puntos para suavidad\n",
    "x = np.linspace(0, 4, 400)\n",
    "\n",
    "# Definimos la función f(x) = x^2 * |sen(x)| - 4\n",
    "y = x**2 * np.abs(np.sin(x)) - 4\n",
    "\n",
    "# Graficar\n",
    "plt.plot(x, y, label=r\"$f(x) = x^2|\\sin(x)| - 4$\", color=\"green\")\n",
    "\n",
    "# Etiquetas de ejes\n",
    "plt.xlabel(\"x\")\n",
    "plt.ylabel(\"y\")\n",
    "\n",
    "# Título\n",
    "plt.title(\"Gráfica de f(x) en el dominio 0 ≤ x ≤ 4\")\n",
    "\n",
    "# Leyenda y grilla\n",
    "plt.legend()\n",
    "plt.grid(True)\n",
    "\n",
    "# Mostrar gráfico\n",
    "plt.show()"
   ],
   "outputs": [
    {
     "data": {
      "text/plain": [
       "<Figure size 640x480 with 1 Axes>"
      ],
      "image/png": "[encoded data removed]"
     },
     "metadata": {},
     "output_type": "display_data"
    }
   ],
   "execution_count": 6
  },
  {
   "cell_type": "markdown",
   "metadata": {
    "id": "r5uWS0RnYMJ5"
   },
   "source": [
    "Ejercicio 3: La siguiente tabla presenta emisión de gas de invernadero por EEUU entre los años 1990-2020. Genere en un sola figura con todo correctamente etiquetado (ejes, curvas, títulos) los siguientes gráficos (separados):\n",
    "1. Un gráfico de dispersión del total de emisión versus año\n",
    "2. Un gráfico de línea con la emisión del dióxido de carbono, metano y óxido nitroso usando ejes gemelos (twinx), uno para el dióxido de carbono y otro para los gases. Emplee diferentes estilos de línea y que tenga leyenda.\n",
    "\n",
    "| | 1990 | 1991 | 1992 | 1993 | 1994 | 1995 | 1996 | 1997 | 1998 | 1999| \n",
    "|-|------|------|------|------|------|------|------|------|------|-----|\n",
    "|Dióxido de carbono|5122.4|5064.9|5175.2|5274.3|5365.5|5427.7|5616.4|5691.8|5737.1|5810.3|\n",
    "|Metano|808.0|812.7|811.3|800.2|808.3|798.2|793.1|778.1|764.6|749.7|\n",
    "|Óxido nitroso|454.6|445.2|444.2|472.5|459.9|470.0|483.5|467.9|468.8|460.6|\n",
    "|Gases fluorados|99.6|90.6|95.2|95.0|98.9|117.8|128.9|136.42|152.8|149.8|\n",
    "|Total|6453.4|6382.9|6497.2|6613.3|6700.7|6785.3|6990.9|7046.2|7094.8|7138.1|\n",
    "\n",
    "| |2000 |2001 | 2002 | 2003 | 2004 | 2005 | 2006 | 2007| 2008 | 2009 |\n",
    "|-|------|------|------|------|------|------|------|------|------|-----|\n",
    "|Dióxido de carbono|6016.3|5911.9|5952.6|6015.8|6117.9|6137.6|6057.1|6135.2|5918.8|5482.9|\n",
    "|Metano|747.4|737.6|735.4|732.7|731.8|728.3|732.3|737.8|742.4|731.6|\n",
    "|Óxido nitroso|450.3|463.3|465.8|464.9|480.4|463.7|459.8|471.9|452.7|452.3|\n",
    "|Gases fluorados|150.8|137.8|145.7|136.9|144.4|146.4|149.3|161.0|162.6|158.3|\n",
    "|Total|7327.5|7219.1|7259.1|7313.8|7428.4|7434.8|7360.8|7463.7|7240.6|6787.2|\n",
    "\n",
    "| |2010 | 2011 | 2012| 2013 | 2014 | 2015 | 2016 | 2017 | 2018| 2019 | 2020\n",
    "|-|------|------|------|------|------|------|------|------|------|-----|---|\n",
    "|Dióxido de carbono|5681.3|5546.6|5345.4|5480.9|5528.8|5376.5|5251.7|5210.9|5376.6|5259.1| 4715.6 |\n",
    "|Metano|730.7|707.6|703.8|699.3|692.9|702.7|685.8|697.7|701.7|694.3|688.4|\n",
    "|Óxido nitroso|457.6|451.1|423.1|469.4|477.9|479.3|456.3|456.0|466.8|461.5|441.2|\n",
    "|Gases fluorados|168.0|175.2|171.8|171.7|176.6|179.2|179.3|181.6|182.0|186.9|189.1|\n",
    "|Total|6787.2|7007.4|6845.0|6606.5|6784.4|6843.3|6689.0|6537.8|6500.9|6687.5| 5981.3|\n",
    "\n"
   ]
  },
  {
   "cell_type": "code",
   "execution_count": null,
   "metadata": {
    "id": "SrUAP258fBus"
   },
   "outputs": [],
   "source": []
  },
  {
   "cell_type": "markdown",
   "metadata": {
    "id": "sYumzQbzfDbM"
   },
   "source": [
    "Ejercicio 4: En la producción de azúcar (sacarosa, $C_{12}H_{22}O_{11}$), la concentración de soluciones de sacarosa generalmente se mide por índice de refracción (usando un instrumento llamado refractómetro). Los datos de la siguiente tabla presentan mediciones relevantes. Se ha propuesto una relación entre el índice de refracción, *n*, y la concentración de sacarosa, *pctS*: \n",
    "\n",
    "$$ n = 1.324595 + 1.998515 \\times 10^{-3} \\; pctS $$\n",
    "\n",
    "Grafique la concentración de sacarosa usando los datos de la tabla unicamente con marcadores y agregue la gráfica del modelo usando lineas. Etiquete de forma completa al gráfico y agregue una leyenda.\n",
    "\n",
    "| Sacarosa (%) | Indice de refraccion | \n",
    "| -----------  | -------------------- |\n",
    "| 0 | 1.3330 |\n",
    "| 5 | 1.3403 |\n",
    "| 10 | 1.3479 | \n",
    "| 15 | 1.3557 |\n",
    "| 20 | 1.3639 |\n",
    "| 25 | 1.3723 | \n",
    "| 30 | 1.3811 |\n",
    "| 35 | 1.3902 |\n",
    "| 40 | 1.3997 |\n",
    "| 45 | 1.4096 |\n",
    "| 50 | 1.4200 |\n",
    "| 55 | 1.4307 |\n",
    "| 60 | 1.4418 |\n",
    "| 65 | 1.4532 |\n",
    "| 70 | 1.4651 |\n",
    "| 75 | 1.4774 |\n",
    "| 80 | 1.4901 |\n",
    "| 85 | 1.5033 |\n"
   ]
  },
  {
   "cell_type": "code",
   "execution_count": null,
   "metadata": {
    "id": "PbHjRCYJguF5"
   },
   "outputs": [],
   "source": []
  },
  {
   "cell_type": "markdown",
   "metadata": {
    "id": "8wmujBuLgu4u"
   },
   "source": [
    "Ejercicio 5:\n",
    "\n",
    "Cree un gráfico en estructura de dos por dos usando **figure** para las siguientes funciones hiperbólicas en el dominio $ -1 \\leq x \\leq 1$\n",
    "\n",
    "| Estructura del grafico | |\n",
    "| ---------------------  | -- |\n",
    "| $senh(x) \\; vs \\; x$ | $cosh(x) \\; vs \\; x$ |\n",
    "| $tanh(x) \\; vs \\; x$ | $sech(x) \\; vs \\; x$ |"
   ]
  },
  {
   "cell_type": "code",
   "execution_count": null,
   "metadata": {
    "id": "oI9z0N5XhsLx"
   },
   "outputs": [],
   "source": []
  }
 ],
 "metadata": {
  "colab": {
   "authorship_tag": "ABX9TyM2OTIB21mear+sslHlH6Gy",
   "provenance": []
  },
  "kernelspec": {
   "display_name": "Python 3 (ipykernel)",
   "name": "python3",
   "language": "python"
  },
  "language_info": {
   "name": "python"
  }
 },
 "nbformat": 4,
 "nbformat_minor": 0
}
